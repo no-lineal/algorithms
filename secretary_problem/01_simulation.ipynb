{
 "cells": [
  {
   "cell_type": "code",
   "execution_count": 1,
   "id": "e611b169-9afc-48ff-90f4-c74844478cfc",
   "metadata": {},
   "outputs": [],
   "source": [
    "import numpy as np\n",
    "\n",
    "from tqdm import tqdm\n",
    "\n",
    "# viz\n",
    "import matplotlib.pyplot as plt"
   ]
  },
  {
   "cell_type": "code",
   "execution_count": 2,
   "id": "7bc26090-6362-46ab-8ea8-ca58a4433495",
   "metadata": {},
   "outputs": [
    {
     "name": "stdout",
     "output_type": "stream",
     "text": [
      "best from rejected: 3\n",
      "best from remaining: 1\n"
     ]
    }
   ],
   "source": [
    "\"\"\"\n",
    "\n",
    "    choose best candidate using the optimal strategy\n",
    "    \n",
    "    reject the first n/e applicants where e is the euler number (~2.718) and choose the candidate \n",
    "    which is better than the n/e rejected candidates\n",
    "\n",
    "\"\"\"\n",
    "\n",
    "def choose_candidate(n, reject=np.e):\n",
    "\n",
    "    # generate a random array of size n\n",
    "    candidates = np.arange(1, n+1)\n",
    "    \n",
    "    # rearange the value position\n",
    "    np.random.shuffle(candidates)\n",
    "    \n",
    "    # define upper bound, optimal solution\n",
    "    \n",
    "    if reject == np.e:\n",
    "        upper_bound = int( round( n/reject ) )\n",
    "    else:\n",
    "        upper_bound = int( round( reject*n/100 ) )\n",
    "    \n",
    "    # choose the best candidate from the rejected space\n",
    "    best_from_rejected = np.min( candidates[ : upper_bound] )\n",
    "    \n",
    "    # new array with the remaining space\n",
    "    rest = candidates[ upper_bound : ]\n",
    "    \n",
    "    try:\n",
    "        \n",
    "        # choose best candidate from the remaining space\n",
    "    \tbest_from_remaining = rest[ rest < best_from_rejected][0]\n",
    "    \n",
    "    except:\n",
    "        \n",
    "        # if there is not best choise return the last option\n",
    "    \tbest_from_remaining = candidates[-1]\n",
    "    \n",
    "    return best_from_rejected, best_from_remaining\n",
    "    \n",
    "#test the function\n",
    "sim = choose_candidate( n=100 )\n",
    "\n",
    "print(f'best from rejected: {sim[0]}')\n",
    "print(f'best from remaining: {sim[1]}')"
   ]
  },
  {
   "cell_type": "code",
   "execution_count": 3,
   "id": "b218e35a-e699-428c-9cac-3daef9861c3d",
   "metadata": {},
   "outputs": [
    {
     "data": {
      "image/png": "[encoded data removed]",
      "text/plain": [
       "<Figure size 720x432 with 1 Axes>"
      ]
     },
     "metadata": {
      "needs_background": "light"
     },
     "output_type": "display_data"
    },
    {
     "data": {
      "image/png": "[encoded data removed]",
      "text/plain": [
       "<Figure size 720x432 with 1 Axes>"
      ]
     },
     "metadata": {
      "needs_background": "light"
     },
     "output_type": "display_data"
    }
   ],
   "source": [
    "\"\"\"\n",
    "\n",
    "    simulation optimal solution\n",
    "    \n",
    "    can be aobserved a convergence towards the best\n",
    "    \n",
    "    so in cases in which you do not select the very best at least choose one of the best\n",
    "    \n",
    "    the probability of choose the best candidates increase very quickly until the 10 before incresing in a linear fashion\n",
    "\n",
    "\"\"\"\n",
    "\n",
    "sim = np.array( [ choose_candidate(n=100)[1] for i in range(100000) ] )\n",
    "\n",
    "plt.figure(figsize=(10, 6))\n",
    "plt.hist(sim, bins=100)\n",
    "plt.xticks(np.arange(0, 101, 10))\n",
    "plt.ylim(0, 40000)\n",
    "plt.xlabel('Chosen candidate')\n",
    "plt.ylabel('frequency')\n",
    "plt.show()\n",
    "\n",
    "plt.figure(figsize=(10, 6))\n",
    "plt.plot(np.cumsum(np.histogram(sim, bins=100)[0])/100000)\n",
    "plt.ylim(0,1)\n",
    "plt.xlim(0, 100)\n",
    "plt.yticks(np.arange(0, 1.1, 0.1))\n",
    "plt.xticks(np.arange(0, 101, 10))\n",
    "plt.xlabel('Chosen candidate')\n",
    "plt.ylabel('Cumulative probability')\n",
    "plt.show()"
   ]
  },
  {
   "cell_type": "code",
   "execution_count": null,
   "id": "121957e6-e671-4578-8fd2-45c689709078",
   "metadata": {},
   "outputs": [
    {
     "name": "stderr",
     "output_type": "stream",
     "text": [
      " 50%|█████     | 10/20 [00:18<00:18,  1.86s/it]"
     ]
    }
   ],
   "source": [
    "\"\"\"\n",
    "\n",
    "    simulation using heuristic upperbounds\n",
    "    \n",
    "    the optimal values is between 34% and 40%, i.e. 1/e\n",
    "\n",
    "\"\"\"\n",
    "\n",
    "best_candidate = []\n",
    "\n",
    "for r in tqdm(range(5, 101, 5)):\n",
    "    \n",
    "    # get simulation\n",
    "    sim = np.array([choose_candidate(n=100, reject=r)[1] for i in range(100000)])\n",
    "    \n",
    "    # frequency of each candidate\n",
    "    best_candidate.append(np.histogram(sim, bins=100)[0][0]/100000)\n",
    "    \n",
    "plt.figure(figsize=(10, 6))\n",
    "plt.scatter(range(5, 101, 5), best_candidate)\n",
    "plt.xlim(0, 100)\n",
    "plt.xticks(np.arange(0, 101, 10))\n",
    "plt.ylim(0, 0.4)\n",
    "plt.xlabel('% of candidates rejected')\n",
    "plt.ylabel('Probability of choosing best candidate')\n",
    "plt.grid(True)\n",
    "plt.axvline(100/np.e, ls='--', c='black')\n",
    "plt.show()"
   ]
  },
  {
   "cell_type": "code",
   "execution_count": null,
   "id": "360422d1-de7a-4d77-a13d-6f36a7645be6",
   "metadata": {},
   "outputs": [],
   "source": [
    "\"\"\"\n",
    "\n",
    "    selecting one of the best candidates (instead of the very best)\n",
    "    \n",
    "    list of probabilities for different rejection strategies and specify the percentage of the best candidates to select\n",
    "    \n",
    "    the probability of selecting the best candidate increases by rejecting the 20%\n",
    "    \n",
    "\"\"\"\n",
    "\n",
    "def get_best_candidates(best_n=1):\n",
    "    \n",
    "    best_candidate = []\n",
    "    \n",
    "    for r in [1] + list(range(5, 101, 5)):\n",
    "        \n",
    "        # get simulation\n",
    "        sim = np.array([choose_candidate(n=100, reject=r)[1] for i in range(10000)])\n",
    "        \n",
    "        best_candidate.append(len(sim[ sim <= best_n ]) / 100)\n",
    "        \n",
    "    return best_candidate\n",
    "    \n",
    "plt.figure(figsize=(10, 6))\n",
    "for i in [1, 2, 5, 10]:\n",
    "    plt.scatter(range(0, 101, 5), get_best_candidates(i), label=str(i))\n",
    "plt.xlim(0, 100)\n",
    "plt.ylim(0, 100)\n",
    "plt.xticks(np.arange(0, 101, 5))\n",
    "plt.yticks(np.arange(0, 101, 10))\n",
    "plt.xlabel('% of candidates rejected')\n",
    "plt.ylabel('Probability of choosing best candidates')\n",
    "plt.legend(title='No. of best candidates')\n",
    "plt.grid(True)\n",
    "plt.tight_layout()\n",
    "plt.show()"
   ]
  },
  {
   "cell_type": "code",
   "execution_count": null,
   "id": "9f72d6f9-b2a3-4315-bc91-5cde7f3a6a75",
   "metadata": {},
   "outputs": [],
   "source": []
  }
 ],
 "metadata": {
  "kernelspec": {
   "display_name": "Python 3",
   "language": "python",
   "name": "python3"
  },
  "language_info": {
   "codemirror_mode": {
    "name": "ipython",
    "version": 3
   },
   "file_extension": ".py",
   "mimetype": "text/x-python",
   "name": "python",
   "nbconvert_exporter": "python",
   "pygments_lexer": "ipython3",
   "version": "3.7.10"
  }
 },
 "nbformat": 4,
 "nbformat_minor": 5
}
